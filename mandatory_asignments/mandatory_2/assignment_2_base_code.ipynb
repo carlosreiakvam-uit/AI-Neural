{
 "cells": [
  {
   "cell_type": "code",
   "execution_count": 582,
   "metadata": {
    "pycharm": {
     "name": "#%%\n"
    }
   },
   "outputs": [],
   "source": [
    "import matplotlib.pyplot as plt\n",
    "import numpy as np\n",
    "import time\n",
    "np.random.seed(1)"
   ]
  },
  {
   "cell_type": "markdown",
   "source": [
    "# Problem 1\n",
    "1: Replace the activation function with the Sigmoid function. Train the network, and compare with the original activation function. What differences did you experience? Why do you think this difference happened?"
   ],
   "metadata": {
    "collapsed": false,
    "pycharm": {
     "name": "#%% md\n"
    }
   }
  },
  {
   "cell_type": "markdown",
   "source": [
    "## Activation functions"
   ],
   "metadata": {
    "collapsed": false,
    "pycharm": {
     "name": "#%% md\n"
    }
   }
  },
  {
   "cell_type": "code",
   "execution_count": 583,
   "metadata": {
    "pycharm": {
     "name": "#%%\n"
    }
   },
   "outputs": [],
   "source": [
    "def sigmoid(x):\n",
    "    return 1 / (1 + np.exp(-x))\n",
    "\n",
    "def sigmoid_diff(x):\n",
    "    return sigmoid(x)* (1-sigmoid(x))"
   ]
  },
  {
   "cell_type": "code",
   "execution_count": 584,
   "outputs": [],
   "source": [
    "def relu(x):\n",
    "    return (x > 0) * x\n",
    "\n",
    "def relu_grad(x):\n",
    "    return x > 0"
   ],
   "metadata": {
    "collapsed": false,
    "pycharm": {
     "name": "#%%\n"
    }
   }
  },
  {
   "cell_type": "markdown",
   "source": [
    "## Training function"
   ],
   "metadata": {
    "collapsed": false,
    "pycharm": {
     "name": "#%% md\n"
    }
   }
  },
  {
   "cell_type": "code",
   "execution_count": 585,
   "outputs": [],
   "source": [
    "def nn(epochs,ws_1, ws_2, af, af_diff):\n",
    "    errors =[]\n",
    "    for epoch in range(epochs):     #number of training iterations, or times to change the weights of the nn\n",
    "        for i in range(X.shape[0]): #for all samples in X, each streetlight\n",
    "            layer_in = X[i:i+1]\n",
    "\n",
    "            #forward pass/prediction\n",
    "            layer_1 = af(layer_in.dot(ws_1))\n",
    "            layer_out = layer_1.dot(ws_2)\n",
    "\n",
    "            #calc error/distance (how far are we from goal)\n",
    "            delta_2 = layer_out - y[i:i+1] # ifht ws2\n",
    "\n",
    "            #calc the error each node in prev layer contributed\n",
    "            delta_1 = delta_2.dot(ws_2.T) * af_diff(layer_1) #ifht ws1\n",
    "\n",
    "            #update weights\n",
    "            ws_2 -= lr * (layer_1.T.reshape(hidden_nodes,1).dot(delta_2)) #pred dot feilmargin_ws2\n",
    "            ws_1 -= lr * (layer_in.T.reshape(X.shape[1],1).dot(delta_1)) #lay_in dot feilmargin_ws1\n",
    "\n",
    "        if epoch % 10 == 0: # at every tenth instance\n",
    "            error = delta_2**2\n",
    "            errors.append(error[0][0])\n",
    "    return errors"
   ],
   "metadata": {
    "collapsed": false,
    "pycharm": {
     "name": "#%%\n"
    }
   }
  },
  {
   "cell_type": "markdown",
   "source": [
    "## Dataset initialization"
   ],
   "metadata": {
    "collapsed": false,
    "pycharm": {
     "name": "#%% md\n"
    }
   }
  },
  {
   "cell_type": "code",
   "execution_count": 586,
   "metadata": {
    "pycharm": {
     "name": "#%%\n"
    }
   },
   "outputs": [],
   "source": [
    "streetlights = np.array([[1,0,1], \n",
    "                         [0,1,1], \n",
    "                         [0,0,1], \n",
    "                         [1,1,1], \n",
    "                         [0,1,1], \n",
    "                         [1,0,1]])"
   ]
  },
  {
   "cell_type": "code",
   "execution_count": 587,
   "metadata": {
    "pycharm": {
     "name": "#%%\n"
    }
   },
   "outputs": [],
   "source": [
    "walk_vs_stop = np.array([[0], [1], [0], [1], [1], [0]])"
   ]
  },
  {
   "cell_type": "code",
   "execution_count": 588,
   "metadata": {
    "pycharm": {
     "name": "#%%\n"
    }
   },
   "outputs": [],
   "source": [
    "X,y = streetlights, walk_vs_stop\n",
    "hidden_nodes = 8"
   ]
  },
  {
   "cell_type": "markdown",
   "source": [
    "## Setting weights"
   ],
   "metadata": {
    "collapsed": false,
    "pycharm": {
     "name": "#%% md\n"
    }
   }
  },
  {
   "cell_type": "code",
   "execution_count": 589,
   "metadata": {
    "pycharm": {
     "name": "#%%\n"
    }
   },
   "outputs": [],
   "source": [
    "ws_1 = np.random.rand(X.shape[1], hidden_nodes) - 0.5 #rand(3,8) from -0.5 to 0.5\n",
    "ws_2 = np.random.rand(hidden_nodes, y.shape[1]) - 0.5 # rand(8,1)"
   ]
  },
  {
   "cell_type": "markdown",
   "source": [
    "## Adjusting parameters"
   ],
   "metadata": {
    "collapsed": false,
    "pycharm": {
     "name": "#%% md\n"
    }
   }
  },
  {
   "cell_type": "code",
   "execution_count": 590,
   "outputs": [],
   "source": [
    "epochs = 150  # number of iterations to go through the network\n",
    "lr = 0.01      # how much we change the weights of the network each iteration"
   ],
   "metadata": {
    "collapsed": false,
    "pycharm": {
     "name": "#%%\n"
    }
   }
  },
  {
   "cell_type": "code",
   "execution_count": 591,
   "outputs": [],
   "source": [
    "sigmoid_errors = nn(epochs,ws_1,ws_2,sigmoid, sigmoid_diff)"
   ],
   "metadata": {
    "collapsed": false,
    "pycharm": {
     "name": "#%%\n"
    }
   }
  },
  {
   "cell_type": "code",
   "execution_count": 592,
   "outputs": [],
   "source": [
    "relu_errors = nn(epochs,ws_1,ws_2,relu, relu_grad)"
   ],
   "metadata": {
    "collapsed": false,
    "pycharm": {
     "name": "#%%\n"
    }
   }
  },
  {
   "cell_type": "markdown",
   "source": [
    "## Problem 1: Sigmoid vs Relu"
   ],
   "metadata": {
    "collapsed": false,
    "pycharm": {
     "name": "#%% md\n"
    }
   }
  },
  {
   "cell_type": "code",
   "execution_count": 606,
   "outputs": [
    {
     "data": {
      "text/plain": "[<matplotlib.lines.Line2D at 0x26c5c3e7190>]"
     },
     "execution_count": 606,
     "metadata": {},
     "output_type": "execute_result"
    },
    {
     "data": {
      "text/plain": "<Figure size 640x480 with 1 Axes>",
      "image/png": "[encoded data removed]"
     },
     "metadata": {},
     "output_type": "display_data"
    }
   ],
   "source": [
    "plt.plot(sigmoid_errors)\n",
    "plt.plot(relu_errors)"
   ],
   "metadata": {
    "collapsed": false,
    "pycharm": {
     "name": "#%%\n"
    }
   }
  },
  {
   "cell_type": "code",
   "execution_count": 603,
   "outputs": [
    {
     "data": {
      "text/plain": "array([[1.02036432e-05, 1.38842279e-02],\n       [1.18241935e-01, 1.08796320e-02],\n       [1.95881839e-01, 9.33893612e-03],\n       [2.17797788e-01, 8.24779771e-03],\n       [2.19033241e-01, 6.12350910e-03],\n       [2.13802032e-01, 5.24227209e-03],\n       [2.06670267e-01, 4.51785607e-03],\n       [1.99016505e-01, 3.80798818e-03],\n       [1.91246205e-01, 3.22342344e-03],\n       [1.83476417e-01, 2.68630325e-03],\n       [1.75741152e-01, 2.26519484e-03],\n       [1.68052214e-01, 1.89463939e-03],\n       [1.60416975e-01, 1.60813343e-03],\n       [1.52843396e-01, 1.29083504e-03],\n       [1.45341268e-01, 1.03574356e-03]])"
     },
     "execution_count": 603,
     "metadata": {},
     "output_type": "execute_result"
    }
   ],
   "source": [
    "error_comparison = np.array([sigmoid_errors,relu_errors]).T\n",
    "error_comparison"
   ],
   "metadata": {
    "collapsed": false,
    "pycharm": {
     "name": "#%%\n"
    }
   }
  },
  {
   "cell_type": "markdown",
   "source": [
    "Looking at the plot and the comparison table we can see that although the sigmoid-errors start of pretty low they quickly ramp up, before descending again.\n",
    "The relu-errors on the other hand have a more or less steady descent and are at all times much lower than the sigmoid-errors.\n",
    "\n",
    "The low and steady errors from the relu activation function seems to suggest that it is a lot more capable activation function compare to the sigmoid function.\n",
    "\n"
   ],
   "metadata": {
    "collapsed": false,
    "pycharm": {
     "name": "#%% md\n"
    }
   }
  },
  {
   "cell_type": "code",
   "execution_count": null,
   "outputs": [],
   "source": [],
   "metadata": {
    "collapsed": false,
    "pycharm": {
     "name": "#%%\n"
    }
   }
  }
 ],
 "metadata": {
  "kernelspec": {
   "display_name": "Python 3",
   "language": "python",
   "name": "python3"
  },
  "language_info": {
   "codemirror_mode": {
    "name": "ipython",
    "version": 3
   },
   "file_extension": ".py",
   "mimetype": "text/x-python",
   "name": "python",
   "nbconvert_exporter": "python",
   "pygments_lexer": "ipython3",
   "version": "3.8.8"
  }
 },
 "nbformat": 4,
 "nbformat_minor": 4
}