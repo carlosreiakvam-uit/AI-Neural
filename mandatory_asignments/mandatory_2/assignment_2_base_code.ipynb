{
 "cells": [
  {
   "cell_type": "code",
   "execution_count": 2,
   "metadata": {
    "pycharm": {
     "name": "#%%\n"
    }
   },
   "outputs": [],
   "source": [
    "import numpy as np\n",
    "import time\n",
    "np.random.seed(1)"
   ]
  },
  {
   "cell_type": "code",
   "execution_count": 3,
   "metadata": {
    "pycharm": {
     "name": "#%%\n"
    }
   },
   "outputs": [],
   "source": [
    "def relu(x):\n",
    "    return (x > 0) * x \n",
    "\n",
    "def relu_grad(x):\n",
    "    return x > 0"
   ]
  },
  {
   "cell_type": "code",
   "execution_count": 4,
   "metadata": {
    "pycharm": {
     "name": "#%%\n"
    }
   },
   "outputs": [],
   "source": [
    "streetlights = np.array([[1,0,1], \n",
    "                         [0,1,1], \n",
    "                         [0,0,1], \n",
    "                         [1,1,1], \n",
    "                         [0,1,1], \n",
    "                         [1,0,1]])"
   ]
  },
  {
   "cell_type": "code",
   "execution_count": 11,
   "outputs": [
    {
     "data": {
      "text/plain": "(6, 3)"
     },
     "execution_count": 11,
     "metadata": {},
     "output_type": "execute_result"
    }
   ],
   "source": [
    "streetlights.shape"
   ],
   "metadata": {
    "collapsed": false,
    "pycharm": {
     "name": "#%%\n"
    }
   }
  },
  {
   "cell_type": "code",
   "execution_count": 5,
   "metadata": {
    "pycharm": {
     "name": "#%%\n"
    }
   },
   "outputs": [],
   "source": [
    "walk_vs_stop = np.array([[0], [1], [0], [1], [1], [0]])"
   ]
  },
  {
   "cell_type": "code",
   "execution_count": 6,
   "metadata": {
    "pycharm": {
     "name": "#%%\n"
    }
   },
   "outputs": [],
   "source": [
    "X,y = streetlights, walk_vs_stop"
   ]
  },
  {
   "cell_type": "code",
   "execution_count": 7,
   "metadata": {
    "pycharm": {
     "name": "#%%\n"
    }
   },
   "outputs": [],
   "source": [
    "hidden_nodes = 8"
   ]
  },
  {
   "cell_type": "code",
   "execution_count": 8,
   "metadata": {
    "pycharm": {
     "name": "#%%\n"
    }
   },
   "outputs": [],
   "source": [
    "epochs = 100  # number of iterations to go through the network\n",
    "\n",
    "lr = 0.01      # how much we change the weights of the network each iteration"
   ]
  },
  {
   "cell_type": "code",
   "execution_count": 9,
   "metadata": {
    "pycharm": {
     "name": "#%%\n"
    }
   },
   "outputs": [
    {
     "data": {
      "text/plain": "array([[-0.082978  ,  0.22032449, -0.49988563, -0.19766743, -0.35324411,\n        -0.40766141, -0.31373979, -0.15443927],\n       [-0.10323253,  0.03881673, -0.08080549,  0.1852195 , -0.29554775,\n         0.37811744, -0.47261241,  0.17046751],\n       [-0.0826952 ,  0.05868983, -0.35961306, -0.30189851,  0.30074457,\n         0.46826158, -0.18657582,  0.19232262]])"
     },
     "execution_count": 9,
     "metadata": {},
     "output_type": "execute_result"
    }
   ],
   "source": [
    "ws_1 = np.random.rand(X.shape[1], hidden_nodes) - 0.5\n",
    "ws_2 = np.random.rand(hidden_nodes, y.shape[1]) - 0.5\n",
    "ws_1"
   ]
  },
  {
   "cell_type": "code",
   "execution_count": 10,
   "metadata": {
    "pycharm": {
     "name": "#%%\n"
    }
   },
   "outputs": [
    {
     "name": "stdout",
     "output_type": "stream",
     "text": [
      "0.019479\n",
      "0.046095\n",
      "0.062677\n",
      "0.061989\n",
      "0.052434\n",
      "0.041336\n",
      "0.031658\n",
      "0.024053\n",
      "0.018328\n",
      "0.01518\n"
     ]
    }
   ],
   "source": [
    "for epoch in range(epochs):     #number of training iterations, or times to change the weights of the nn\n",
    "    for i in range(X.shape[0]): #for all samples in X, each streetlight\n",
    "        layer_in = X[i:i+1]\n",
    "        \n",
    "        #forward pass/prediction\n",
    "        layer_1 = relu(layer_in.dot(ws_1))\n",
    "        \n",
    "        layer_out = layer_1.dot(ws_2)\n",
    "        \n",
    "        #calc error/distance (how far are we from goal)\n",
    "        delta_2 = layer_out - y[i:i+1]\n",
    "        \n",
    "        #calc the error each node in prev layer contributed\n",
    "        delta_1 = delta_2.dot(ws_2.T) * relu_grad(layer_1)\n",
    "        \n",
    "        #update weights\n",
    "        ws_2 -= lr * (layer_1.T.reshape(hidden_nodes,1).dot(delta_2))\n",
    "        ws_1 -= lr * (layer_in.T.reshape(X.shape[1],1).dot(delta_1))\n",
    "    \n",
    "    if epoch % 10 == 0:\n",
    "        error = delta_2**2\n",
    "        print(round(error[0][0],6))#, end='\\r')"
   ]
  },
  {
   "cell_type": "code",
   "execution_count": 10,
   "metadata": {
    "pycharm": {
     "name": "#%%\n"
    }
   },
   "outputs": [],
   "source": []
  }
 ],
 "metadata": {
  "kernelspec": {
   "display_name": "Python 3",
   "language": "python",
   "name": "python3"
  },
  "language_info": {
   "codemirror_mode": {
    "name": "ipython",
    "version": 3
   },
   "file_extension": ".py",
   "mimetype": "text/x-python",
   "name": "python",
   "nbconvert_exporter": "python",
   "pygments_lexer": "ipython3",
   "version": "3.8.8"
  }
 },
 "nbformat": 4,
 "nbformat_minor": 4
}