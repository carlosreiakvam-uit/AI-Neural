{
 "cells": [
  {
   "cell_type": "code",
   "execution_count": 145,
   "metadata": {
    "pycharm": {
     "name": "#%%\n"
    }
   },
   "outputs": [],
   "source": [
    "import numpy as np\n",
    "import math as m\n",
    "import time\n",
    "import matplotlib.pyplot as plt\n",
    "np.random.seed(1)"
   ]
  },
  {
   "cell_type": "code",
   "execution_count": 146,
   "outputs": [],
   "source": [
    "def relu(x):\n",
    "    return (x > 0) * x\n",
    "\n",
    "def relu_grad(x): #returns false if x < 0\n",
    "    return x > 0"
   ],
   "metadata": {
    "collapsed": false,
    "pycharm": {
     "name": "#%%\n"
    }
   }
  },
  {
   "cell_type": "code",
   "execution_count": 147,
   "outputs": [],
   "source": [
    "streetlights = np.array([[1, 0, 1],\n",
    "                         [0, 1, 1],\n",
    "                         [0, 0, 1],\n",
    "                         [1, 1, 1],\n",
    "                         [0, 1, 1],\n",
    "                         [1, 0, 1]])"
   ],
   "metadata": {
    "collapsed": false,
    "pycharm": {
     "name": "#%%\n"
    }
   }
  },
  {
   "cell_type": "code",
   "execution_count": 148,
   "outputs": [
    {
     "data": {
      "text/plain": "array([[1, 0, 1],\n       [0, 1, 1],\n       [0, 0, 1],\n       [1, 1, 1],\n       [0, 1, 1],\n       [1, 0, 1]])"
     },
     "execution_count": 148,
     "metadata": {},
     "output_type": "execute_result"
    }
   ],
   "source": [
    "streetlights"
   ],
   "metadata": {
    "collapsed": false,
    "pycharm": {
     "name": "#%%\n"
    }
   }
  },
  {
   "cell_type": "code",
   "execution_count": 149,
   "metadata": {
    "pycharm": {
     "name": "#%%\n"
    }
   },
   "outputs": [
    {
     "data": {
      "text/plain": "array([[0],\n       [1],\n       [0],\n       [1],\n       [1],\n       [0]])"
     },
     "execution_count": 149,
     "metadata": {},
     "output_type": "execute_result"
    }
   ],
   "source": [
    "walk_vs_stop = np.array([[0], [1], [0], [1], [1], [0]])\n",
    "walk_vs_stop"
   ]
  },
  {
   "cell_type": "markdown",
   "source": [],
   "metadata": {
    "collapsed": false,
    "pycharm": {
     "name": "#%% md\n"
    }
   }
  },
  {
   "cell_type": "code",
   "execution_count": 150,
   "metadata": {
    "pycharm": {
     "name": "#%%\n"
    }
   },
   "outputs": [],
   "source": [
    "X, y = streetlights, walk_vs_stop"
   ]
  },
  {
   "cell_type": "code",
   "execution_count": 151,
   "metadata": {
    "pycharm": {
     "name": "#%%\n"
    }
   },
   "outputs": [],
   "source": [
    "hidden_nodes = 8"
   ]
  },
  {
   "cell_type": "code",
   "execution_count": 152,
   "metadata": {
    "pycharm": {
     "name": "#%%\n"
    }
   },
   "outputs": [],
   "source": [
    "epochs = 1000  # number of iterations to go through the network\n",
    "\n",
    "lr = 0.01  # how much we change the weights of the network each iteration"
   ]
  },
  {
   "cell_type": "code",
   "execution_count": 153,
   "metadata": {
    "pycharm": {
     "name": "#%%\n"
    }
   },
   "outputs": [],
   "source": [
    "ws_1 = np.random.rand(X.shape[1], hidden_nodes) - 0.5  #rand(3,8) from -0.5 to 0.5\n",
    "ws_2 = np.random.rand(hidden_nodes, y.shape[1]) - 0.5  # rand(8,1)"
   ]
  },
  {
   "cell_type": "code",
   "execution_count": 154,
   "outputs": [
    {
     "data": {
      "text/plain": "array([[-0.082978  ,  0.22032449, -0.49988563, -0.19766743, -0.35324411,\n        -0.40766141, -0.31373979, -0.15443927],\n       [-0.10323253,  0.03881673, -0.08080549,  0.1852195 , -0.29554775,\n         0.37811744, -0.47261241,  0.17046751],\n       [-0.0826952 ,  0.05868983, -0.35961306, -0.30189851,  0.30074457,\n         0.46826158, -0.18657582,  0.19232262]])"
     },
     "execution_count": 154,
     "metadata": {},
     "output_type": "execute_result"
    }
   ],
   "source": [
    "ws_1"
   ],
   "metadata": {
    "collapsed": false,
    "pycharm": {
     "name": "#%%\n"
    }
   }
  },
  {
   "cell_type": "code",
   "execution_count": 155,
   "outputs": [
    {
     "data": {
      "text/plain": "array([[ 0.37638915],\n       [ 0.39460666],\n       [-0.41495579],\n       [-0.46094522],\n       [-0.33016958],\n       [ 0.3781425 ],\n       [-0.40165317],\n       [-0.07889237]])"
     },
     "execution_count": 155,
     "metadata": {},
     "output_type": "execute_result"
    }
   ],
   "source": [
    "ws_2"
   ],
   "metadata": {
    "collapsed": false,
    "pycharm": {
     "name": "#%%\n"
    }
   }
  },
  {
   "cell_type": "code",
   "execution_count": 156,
   "metadata": {
    "pycharm": {
     "name": "#%%\n"
    }
   },
   "outputs": [],
   "source": [
    "errors = []\n",
    "for epoch in range(epochs):  #number of training iterations, or times to change the weights of the nn\n",
    "    for i in range(X.shape[0]):  #for all samples in X, each streetlight\n",
    "        layer_in = X[i:i + 1]\n",
    "\n",
    "        #forward pass/prediction\n",
    "        layer_1 = relu(layer_in.dot(ws_1))\n",
    "        layer_out = layer_1.dot(ws_2)\n",
    "\n",
    "        #calc error/distance (how far are we from goal)\n",
    "        delta_2 = layer_out - y[i:i + 1]\n",
    "\n",
    "        #calc the error each node in prev layer contributed\n",
    "        delta_1 = delta_2.dot(ws_2.T) * relu_grad(layer_1) # var tidligere relu_grad\n",
    "\n",
    "        #update weights\n",
    "        ws_2 -= lr * (layer_1.T.reshape(hidden_nodes, 1).dot(delta_2))\n",
    "        ws_1 -= lr * (layer_in.T.reshape(X.shape[1], 1).dot(delta_1))\n",
    "\n",
    "\n",
    "    if epoch % 10 == 0:  # at every tenth instance\n",
    "        error = delta_2 ** 2\n",
    "        errors.append(error[0][0])\n",
    "        # print(round(error[0][0], 6))  #, end='\\r')"
   ]
  },
  {
   "cell_type": "code",
   "execution_count": 157,
   "outputs": [
    {
     "data": {
      "text/plain": "[<matplotlib.lines.Line2D at 0x20301565fa0>]"
     },
     "execution_count": 157,
     "metadata": {},
     "output_type": "execute_result"
    },
    {
     "data": {
      "text/plain": "<Figure size 640x480 with 1 Axes>",
      "image/png": "[encoded data removed]"
     },
     "metadata": {},
     "output_type": "display_data"
    }
   ],
   "source": [
    "\n",
    "plt.plot(errors)"
   ],
   "metadata": {
    "collapsed": false,
    "pycharm": {
     "name": "#%%\n"
    }
   }
  },
  {
   "cell_type": "code",
   "execution_count": 157,
   "outputs": [],
   "source": [],
   "metadata": {
    "collapsed": false,
    "pycharm": {
     "name": "#%%\n"
    }
   }
  }
 ],
 "metadata": {
  "kernelspec": {
   "display_name": "Python 3",
   "language": "python",
   "name": "python3"
  },
  "language_info": {
   "codemirror_mode": {
    "name": "ipython",
    "version": 3
   },
   "file_extension": ".py",
   "mimetype": "text/x-python",
   "name": "python",
   "nbconvert_exporter": "python",
   "pygments_lexer": "ipython3",
   "version": "3.8.8"
  }
 },
 "nbformat": 4,
 "nbformat_minor": 4
}