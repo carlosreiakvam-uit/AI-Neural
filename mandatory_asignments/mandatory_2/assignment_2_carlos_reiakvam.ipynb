{
 "cells": [
  {
   "cell_type": "markdown",
   "source": [
    "# Mandatory Assignment 2 by Carlos Reiakvam\n",
    "\n",
    "### Problem text\n",
    "You are given a basic, bare-bones neural network written in Numpy. You will take basis in that code and add some modifications. These are as follows:\n",
    "\n",
    "1: Replace the activation function with the Sigmoid function. Train the network, and compare with the original activation function. What differences did you experience? Why do you think this difference happened?\n",
    "\n",
    "2: Do a search for the best learning rate. Also experiment with the necessary number of epochs. Use these values for learning rate: [0.001, 0.01, 0.1, 1, 10]. Report on your findings.\n",
    "\n",
    "3: Add another “hidden” layer(hidden layers exist between the input and output layers). Choose the size of the layer yourself. Retrain the network. Here, your knowledge about learning rate and epochs from the previous task might come in handy. Is this network more or less performant than the previous version? What does this change imply?"
   ],
   "metadata": {
    "collapsed": false,
    "pycharm": {
     "name": "#%% md\n"
    }
   }
  },
  {
   "cell_type": "code",
   "execution_count": 902,
   "metadata": {
    "pycharm": {
     "name": "#%%\n"
    }
   },
   "outputs": [],
   "source": [
    "import matplotlib.pyplot as plt\n",
    "import numpy as np\n",
    "import pandas as pd\n",
    "import math as m\n",
    "import time\n",
    "np.random.seed(1)"
   ]
  },
  {
   "cell_type": "markdown",
   "source": [
    "### Activation functions"
   ],
   "metadata": {
    "collapsed": false,
    "pycharm": {
     "name": "#%% md\n"
    }
   }
  },
  {
   "cell_type": "code",
   "execution_count": 903,
   "metadata": {
    "pycharm": {
     "name": "#%%\n"
    }
   },
   "outputs": [],
   "source": [
    "def sigmoid(x):\n",
    "    return 1 / (1 + np.exp(-x))\n",
    "\n",
    "def sigmoid_diff(x):\n",
    "    return sigmoid(x)* (1-sigmoid(x))"
   ]
  },
  {
   "cell_type": "code",
   "execution_count": 904,
   "outputs": [],
   "source": [
    "def relu(x):\n",
    "    return (x > 0) * x\n",
    "\n",
    "def relu_grad(x):\n",
    "    return x > 0"
   ],
   "metadata": {
    "collapsed": false,
    "pycharm": {
     "name": "#%%\n"
    }
   }
  },
  {
   "cell_type": "markdown",
   "source": [
    "### Training function"
   ],
   "metadata": {
    "collapsed": false,
    "pycharm": {
     "name": "#%% md\n"
    }
   }
  },
  {
   "cell_type": "code",
   "execution_count": 905,
   "outputs": [],
   "source": [
    "def nn(epochs,ws_1, ws_2, af, af_diff, lr):\n",
    "    errors =[]\n",
    "    for epoch in range(epochs):     #number of training iterations, or times to change the weights of the nn\n",
    "        for i in range(X.shape[0]): #for all samples in X, each streetlight\n",
    "            layer_in = X[i:i+1]\n",
    "\n",
    "            #forward pass/prediction\n",
    "            layer_1 = af(layer_in.dot(ws_1))\n",
    "            layer_out = layer_1.dot(ws_2)\n",
    "\n",
    "            #calc error/distance (how far are we from goal)\n",
    "            delta_2 = layer_out - y[i:i+1] # ifht ws2\n",
    "\n",
    "            #calc the error each node in prev layer contributed\n",
    "            delta_1 = delta_2.dot(ws_2.T) * af_diff(layer_1) #ifht ws1\n",
    "\n",
    "            #update weights\n",
    "            ws_2 -= lr * (layer_1.T.reshape(hidden_nodes,1).dot(delta_2)) #pred dot feilmargin_ws2\n",
    "            ws_1 -= lr * (layer_in.T.reshape(X.shape[1],1).dot(delta_1)) #lay_in dot feilmargin_ws1\n",
    "\n",
    "        if epoch % 10 == 0: # at every tenth instance\n",
    "            error = delta_2**2\n",
    "            errors.append(error[0][0])\n",
    "    return errors"
   ],
   "metadata": {
    "collapsed": false,
    "pycharm": {
     "name": "#%%\n"
    }
   }
  },
  {
   "cell_type": "markdown",
   "source": [
    "### Dataset initialization"
   ],
   "metadata": {
    "collapsed": false,
    "pycharm": {
     "name": "#%% md\n"
    }
   }
  },
  {
   "cell_type": "code",
   "execution_count": 906,
   "metadata": {
    "pycharm": {
     "name": "#%%\n"
    }
   },
   "outputs": [],
   "source": [
    "streetlights = np.array([[1,0,1], \n",
    "                         [0,1,1], \n",
    "                         [0,0,1], \n",
    "                         [1,1,1], \n",
    "                         [0,1,1], \n",
    "                         [1,0,1]])"
   ]
  },
  {
   "cell_type": "code",
   "execution_count": 907,
   "metadata": {
    "pycharm": {
     "name": "#%%\n"
    }
   },
   "outputs": [],
   "source": [
    "walk_vs_stop = np.array([[0], [1], [0], [1], [1], [0]])"
   ]
  },
  {
   "cell_type": "code",
   "execution_count": 908,
   "metadata": {
    "pycharm": {
     "name": "#%%\n"
    }
   },
   "outputs": [],
   "source": [
    "X,y = streetlights, walk_vs_stop\n",
    "hidden_nodes = 8"
   ]
  },
  {
   "cell_type": "markdown",
   "source": [
    "### Setting weights"
   ],
   "metadata": {
    "collapsed": false,
    "pycharm": {
     "name": "#%% md\n"
    }
   }
  },
  {
   "cell_type": "code",
   "execution_count": 909,
   "metadata": {
    "pycharm": {
     "name": "#%%\n"
    }
   },
   "outputs": [],
   "source": [
    "def set_weights():\n",
    "    ws_1 = np.random.rand(X.shape[1], hidden_nodes) - 0.5 #rand(3,8) from -0.5 to 0.5\n",
    "    ws_2 = np.random.rand(hidden_nodes, y.shape[1]) - 0.5 # rand(8,1)\n",
    "    return ws_1,ws_2\n",
    "[ws_1,ws_2] = set_weights()"
   ]
  },
  {
   "cell_type": "markdown",
   "source": [
    "### Adjustment parameters"
   ],
   "metadata": {
    "collapsed": false,
    "pycharm": {
     "name": "#%% md\n"
    }
   }
  },
  {
   "cell_type": "code",
   "execution_count": 910,
   "outputs": [],
   "source": [
    "epochs = 1000  # number of iterations to go through the network\n",
    "lr = 0.01      # how much we change the weights of the network each iteration"
   ],
   "metadata": {
    "collapsed": false,
    "pycharm": {
     "name": "#%%\n"
    }
   }
  },
  {
   "cell_type": "markdown",
   "source": [
    "---\n",
    "# Problems 1\n",
    "1: Replace the activation function with the Sigmoid function. Train the network, and compare with the original activation function. What differences did you experience? Why do you think this difference happened?"
   ],
   "metadata": {
    "collapsed": false,
    "pycharm": {
     "name": "#%% md\n"
    }
   }
  },
  {
   "cell_type": "markdown",
   "source": [
    "### Training with different activation functions"
   ],
   "metadata": {
    "collapsed": false,
    "pycharm": {
     "name": "#%% md\n"
    }
   }
  },
  {
   "cell_type": "code",
   "execution_count": 911,
   "outputs": [],
   "source": [
    "sigmoid_errors = nn(epochs,ws_1,ws_2,sigmoid, sigmoid_diff,lr)"
   ],
   "metadata": {
    "collapsed": false,
    "pycharm": {
     "name": "#%%\n"
    }
   }
  },
  {
   "cell_type": "markdown",
   "source": [
    "Reset weights"
   ],
   "metadata": {
    "collapsed": false,
    "pycharm": {
     "name": "#%% md\n"
    }
   }
  },
  {
   "cell_type": "code",
   "execution_count": 912,
   "outputs": [],
   "source": [
    "[ws_1,ws_2] = set_weights()"
   ],
   "metadata": {
    "collapsed": false,
    "pycharm": {
     "name": "#%%\n"
    }
   }
  },
  {
   "cell_type": "code",
   "execution_count": 913,
   "outputs": [],
   "source": [
    "relu_errors = nn(epochs,ws_1,ws_2,relu, relu_grad,lr)"
   ],
   "metadata": {
    "collapsed": false,
    "pycharm": {
     "name": "#%%\n"
    }
   }
  },
  {
   "cell_type": "markdown",
   "source": [
    "### Investigating results of Sigmoid vs Relu"
   ],
   "metadata": {
    "collapsed": false,
    "pycharm": {
     "name": "#%% md\n"
    }
   }
  },
  {
   "cell_type": "code",
   "execution_count": 914,
   "outputs": [
    {
     "data": {
      "text/plain": "[<matplotlib.lines.Line2D at 0x26c6ac3dee0>]"
     },
     "execution_count": 914,
     "metadata": {},
     "output_type": "execute_result"
    },
    {
     "data": {
      "text/plain": "<Figure size 640x480 with 1 Axes>",
      "image/png": "[encoded data removed]"
     },
     "metadata": {},
     "output_type": "display_data"
    }
   ],
   "source": [
    "plt.plot(sigmoid_errors)"
   ],
   "metadata": {
    "collapsed": false,
    "pycharm": {
     "name": "#%%\n"
    }
   }
  },
  {
   "cell_type": "code",
   "execution_count": 915,
   "outputs": [
    {
     "data": {
      "text/plain": "[<matplotlib.lines.Line2D at 0x26c654ea340>]"
     },
     "execution_count": 915,
     "metadata": {},
     "output_type": "execute_result"
    },
    {
     "data": {
      "text/plain": "<Figure size 640x480 with 1 Axes>",
      "image/png": "[encoded data removed]"
     },
     "metadata": {},
     "output_type": "display_data"
    }
   ],
   "source": [
    "plt.plot(relu_errors)"
   ],
   "metadata": {
    "collapsed": false,
    "pycharm": {
     "name": "#%%\n"
    }
   }
  },
  {
   "cell_type": "code",
   "execution_count": 916,
   "outputs": [
    {
     "data": {
      "text/plain": "array([[1.02036432e-05, 1.67298258e-04],\n       [1.18241935e-01, 4.92238206e-03],\n       [1.95881839e-01, 1.95174321e-02],\n       [2.17797788e-01, 3.60860688e-02],\n       [2.19033241e-01, 4.31418309e-02],\n       [2.13802032e-01, 4.11426211e-02],\n       [2.06670267e-01, 3.52522060e-02],\n       [1.99016505e-01, 2.87522147e-02],\n       [1.91246205e-01, 2.29179746e-02],\n       [1.83476417e-01, 1.80692105e-02],\n       [1.75741152e-01, 1.41749058e-02],\n       [1.68052214e-01, 1.21130645e-02],\n       [1.60416975e-01, 1.14272987e-02],\n       [1.52843396e-01, 1.06553301e-02],\n       [1.45341268e-01, 9.87500937e-03],\n       [1.37922326e-01, 9.11749047e-03],\n       [1.30600022e-01, 8.39573075e-03],\n       [1.23389189e-01, 7.71676038e-03],\n       [1.16305666e-01, 7.08199020e-03],\n       [1.09365903e-01, 6.49066161e-03],\n       [1.02586574e-01, 5.94118393e-03],\n       [9.59841857e-02, 5.43165326e-03],\n       [8.95747101e-02, 4.96005606e-03],\n       [8.33732366e-02, 4.52435172e-03],\n       [7.73936566e-02, 4.12250900e-03],\n       [7.16483869e-02, 3.75252461e-03],\n       [6.61481381e-02, 3.41243505e-03],\n       [6.09017320e-02, 3.10032551e-03],\n       [5.59159714e-02, 2.81433736e-03],\n       [5.11955635e-02, 2.55267463e-03],\n       [4.67430957e-02, 2.31360958e-03],\n       [4.25590612e-02, 2.09548729e-03],\n       [3.86419311e-02, 1.89672939e-03],\n       [3.49882673e-02, 1.71583677e-03],\n       [3.15928694e-02, 1.55139125e-03],\n       [2.84489486e-02, 1.40205647e-03],\n       [2.55483227e-02, 1.26657785e-03],\n       [2.28816228e-02, 1.14378170e-03],\n       [2.04385063e-02, 1.03257381e-03],\n       [1.82078699e-02, 9.31937227e-04],\n       [1.61780551e-02, 8.40929742e-04],\n       [1.43370449e-02, 7.58680826e-04],\n       [1.26726444e-02, 6.84388343e-04],\n       [1.11726450e-02, 6.17315011e-04],\n       [9.82496987e-03, 5.56784729e-04],\n       [8.61779834e-03, 5.02178840e-04],\n       [7.53967142e-03, 4.52932376e-04],\n       [6.57957677e-03, 4.08530346e-04],\n       [5.72701512e-03, 3.68504103e-04],\n       [4.97204929e-03, 3.32427837e-04],\n       [4.30533727e-03, 2.99915196e-04],\n       [3.71815136e-03, 2.70616081e-04],\n       [3.20238493e-03, 2.44213605e-04],\n       [2.75054899e-03, 2.20421235e-04],\n       [2.35576007e-03, 1.98980129e-04],\n       [2.01172124e-03, 1.79656642e-04],\n       [1.71269777e-03, 1.62240028e-04],\n       [1.45348884e-03, 1.46540311e-04],\n       [1.22939650e-03, 1.32386330e-04],\n       [1.03619295e-03, 1.19623946e-04],\n       [8.70086966e-04, 1.08114397e-04],\n       [7.27690323e-04, 9.77328075e-05],\n       [6.05984687e-04, 8.83668219e-05],\n       [5.02289505e-04, 7.99153690e-05],\n       [4.14231221e-04, 7.22875400e-05],\n       [3.39714084e-04, 6.51705113e-05],\n       [2.76892698e-04, 5.84234129e-05],\n       [2.24146433e-04, 5.22790058e-05],\n       [1.80055726e-04, 4.67796707e-05],\n       [1.43380283e-04, 4.18905088e-05],\n       [1.13039129e-04, 3.75546555e-05],\n       [8.80924665e-05, 3.37095360e-05],\n       [6.77252255e-05, 3.02962100e-05],\n       [5.12322433e-05, 2.72619915e-05],\n       [3.80049440e-05, 2.45550346e-05],\n       [2.75194199e-05, 2.21453894e-05],\n       [1.93258020e-05, 1.99896743e-05],\n       [1.30388097e-05, 1.80626050e-05],\n       [8.32937606e-06, 1.63387912e-05],\n       [4.91724545e-06, 1.47904216e-05],\n       [2.56444949e-06, 1.34000873e-05],\n       [1.06957148e-06, 1.21524806e-05],\n       [2.62716264e-07, 1.10295612e-05],\n       [1.10933856e-09, 1.00177562e-05],\n       [1.65255189e-07, 9.10374309e-06],\n       [6.55591205e-07, 8.27977119e-06],\n       [1.38957959e-06, 7.53704650e-06],\n       [2.29918527e-06, 6.86436464e-06],\n       [3.32869328e-06, 6.25412463e-06],\n       [4.43282376e-06, 5.70259833e-06],\n       [5.57510753e-06, 5.20296941e-06],\n       [6.72648922e-06, 4.74954970e-06],\n       [7.86412859e-06, 4.33704304e-06],\n       [8.97037434e-06, 3.96248337e-06],\n       [1.00318876e-05, 3.62299323e-06],\n       [1.10388948e-05, 3.31358646e-06],\n       [1.19845532e-05, 3.03110486e-06],\n       [1.28644125e-05, 2.77490115e-06],\n       [1.36759599e-05, 2.54199465e-06],\n       [1.44182373e-05, 2.32856700e-06]])"
     },
     "execution_count": 916,
     "metadata": {},
     "output_type": "execute_result"
    }
   ],
   "source": [
    "error_comparison = np.array([sigmoid_errors,relu_errors]).T\n",
    "error_comparison"
   ],
   "metadata": {
    "collapsed": false,
    "pycharm": {
     "name": "#%%\n"
    }
   }
  },
  {
   "cell_type": "markdown",
   "source": [
    "### Comment on the findings (needs further explanation)\n",
    "Looking at the plot and the comparison table we can see that although the sigmoid-errors start of pretty low they quickly ramp up, before descending again. The relu-errors on the other hand starts off lower, has less of a ramp up and also descends quicker than the sigmoid. Seemingly beating it in every way possible."
   ],
   "metadata": {
    "collapsed": false,
    "pycharm": {
     "name": "#%% md\n"
    }
   }
  },
  {
   "cell_type": "markdown",
   "source": [
    "---\n",
    "# Problem 2\n",
    "Do a search for the best learning rate. Also experiment with the necessary number of epochs. Use these values for learning rate: [0.001, 0.01, 0.1, 1, 10]. Report on your findings."
   ],
   "metadata": {
    "collapsed": false,
    "pycharm": {
     "name": "#%% md\n"
    }
   }
  },
  {
   "cell_type": "markdown",
   "source": [
    "### Running nn with different learning rates"
   ],
   "metadata": {
    "collapsed": false,
    "pycharm": {
     "name": "#%% md\n"
    }
   }
  },
  {
   "cell_type": "code",
   "execution_count": 917,
   "outputs": [],
   "source": [
    "lrs, errors = [0.001, 0.01, 0.1, 1, 10], []\n",
    "epochs = 500\n",
    "for lr in lrs:\n",
    "    errors.append(nn(epochs, ws_1, ws_2, relu, relu_grad, lr))"
   ],
   "metadata": {
    "collapsed": false,
    "pycharm": {
     "name": "#%%\n"
    }
   }
  },
  {
   "cell_type": "code",
   "execution_count": 918,
   "outputs": [
    {
     "data": {
      "text/plain": "       0.001          0.01           0.1             1            10\n0   0.000002  1.380143e-06  3.164150e-08  6.027347e-22  5.200283e-11\n1   0.000002  1.272152e-06  1.512065e-08  7.240432e-05  9.119616e-12\n2   0.000002  1.171345e-06  7.074493e-09  2.131680e-07  1.599299e-12\n3   0.000002  1.077572e-06  3.301724e-09  1.784175e-07  2.804681e-13\n4   0.000002  9.914315e-07  1.533202e-09  1.495048e-07  4.918553e-14\n5   0.000002  9.123776e-07  7.881200e-10  1.253989e-07  8.625640e-15\n6   0.000002  8.395863e-07  3.798873e-10  1.052652e-07  1.512674e-15\n7   0.000002  7.727562e-07  2.026568e-10  8.842451e-08  2.652767e-16\n8   0.000002  7.114576e-07  1.003999e-10  7.432059e-08  4.652143e-17\n9   0.000002  6.551614e-07  5.336992e-11  6.249637e-08  8.158437e-18\n10  0.000002  6.038174e-07  2.769087e-11  5.257463e-08  1.430741e-18\n11  0.000002  5.565159e-07  1.400382e-11  4.424311e-08  2.509082e-19\n12  0.000002  5.129486e-07  7.713941e-12  3.724256e-08  4.400163e-20\n13  0.000002  4.731585e-07  3.950503e-12  3.135726e-08  7.716540e-21\n14  0.000002  4.364525e-07  2.128848e-12  2.640736e-08  1.353245e-21\n15  0.000002  4.024990e-07  1.125396e-12  2.224263e-08  2.373178e-22\n16  0.000002  3.714567e-07  6.095358e-13  1.873743e-08  4.161828e-23\n17  0.000002  3.428411e-07  3.212074e-13  1.578652e-08  7.298632e-24\n18  0.000002  3.166041e-07  1.644261e-13  1.330171e-08  1.279954e-24\n19  0.000002  2.923696e-07  9.156660e-14  1.120897e-08  2.244537e-25\n20  0.000002  2.699808e-07  4.723281e-14  9.446163e-09  3.936460e-26\n21  0.000002  2.495566e-07  2.634248e-14  7.961078e-09  6.903554e-27\n22  0.000002  2.306847e-07  1.356463e-14  6.709817e-09  1.210446e-27\n23  0.000002  2.132447e-07  7.381644e-15  5.655465e-09  2.122938e-28\n24  0.000002  1.971747e-07  3.900702e-15  4.766965e-09  3.729328e-29\n25  0.000002  1.823495e-07  2.000396e-15  4.018176e-09  6.535506e-30\n26  0.000002  1.687404e-07  1.122249e-15  3.387094e-09  1.135546e-30\n27  0.000002  1.561067e-07  5.749316e-16  2.855190e-09  2.032560e-31\n28  0.000002  1.444629e-07  3.140081e-16  2.406861e-09  3.401599e-32\n29  0.000002  1.338136e-07  1.650498e-16  2.028960e-09  5.905554e-33\n30  0.000002  1.238858e-07  8.484397e-17  1.710417e-09  3.175876e-33\n31  0.000002  1.147449e-07  4.785031e-17  1.441900e-09  3.175876e-33\n32  0.000002  1.063394e-07  2.431550e-17  1.215549e-09  3.175876e-33\n33  0.000002  9.847785e-08  1.368040e-17  1.024738e-09  3.175876e-33\n34  0.000002  9.131292e-08  7.049802e-18  8.638860e-10  3.175876e-33\n35  0.000002  8.467369e-08  3.822360e-18  7.282867e-10  3.175876e-33\n36  0.000002  7.849137e-08  2.030091e-18  6.139746e-10  3.175876e-33\n37  0.000002  7.281774e-08  1.033563e-18  5.176069e-10  3.175876e-33\n38  0.000002  6.752710e-08  5.844709e-19  4.363664e-10  3.175876e-33\n39  0.000002  6.267238e-08  2.972488e-19  3.678779e-10  3.175876e-33\n40  0.000001  5.817660e-08  1.672879e-19  3.101395e-10  3.175876e-33\n41  0.000001  5.398673e-08  8.558888e-20  2.614637e-10  3.175876e-33\n42  0.000001  5.013949e-08  4.688454e-20  2.204279e-10  3.175876e-33\n43  0.000001  4.654643e-08  2.485132e-20  1.858327e-10  3.175876e-33\n44  0.000001  4.324685e-08  1.264468e-20  1.566673e-10  3.175876e-33\n45  0.000001  4.018742e-08  7.148750e-21  1.320794e-10  3.175876e-33\n46  0.000001  3.733181e-08  3.660340e-21  1.113504e-10  3.175876e-33\n47  0.000001  3.470759e-08  2.040592e-21  9.387486e-11  3.175876e-33\n48  0.000001  3.224282e-08  1.053545e-21  7.914197e-11  3.175876e-33\n49  0.000001  2.999426e-08  5.880632e-22  6.672132e-11  3.175876e-33",
      "text/html": "<div>\n<style scoped>\n    .dataframe tbody tr th:only-of-type {\n        vertical-align: middle;\n    }\n\n    .dataframe tbody tr th {\n        vertical-align: top;\n    }\n\n    .dataframe thead th {\n        text-align: right;\n    }\n</style>\n<table border=\"1\" class=\"dataframe\">\n  <thead>\n    <tr style=\"text-align: right;\">\n      <th></th>\n      <th>0.001</th>\n      <th>0.01</th>\n      <th>0.1</th>\n      <th>1</th>\n      <th>10</th>\n    </tr>\n  </thead>\n  <tbody>\n    <tr>\n      <th>0</th>\n      <td>0.000002</td>\n      <td>1.380143e-06</td>\n      <td>3.164150e-08</td>\n      <td>6.027347e-22</td>\n      <td>5.200283e-11</td>\n    </tr>\n    <tr>\n      <th>1</th>\n      <td>0.000002</td>\n      <td>1.272152e-06</td>\n      <td>1.512065e-08</td>\n      <td>7.240432e-05</td>\n      <td>9.119616e-12</td>\n    </tr>\n    <tr>\n      <th>2</th>\n      <td>0.000002</td>\n      <td>1.171345e-06</td>\n      <td>7.074493e-09</td>\n      <td>2.131680e-07</td>\n      <td>1.599299e-12</td>\n    </tr>\n    <tr>\n      <th>3</th>\n      <td>0.000002</td>\n      <td>1.077572e-06</td>\n      <td>3.301724e-09</td>\n      <td>1.784175e-07</td>\n      <td>2.804681e-13</td>\n    </tr>\n    <tr>\n      <th>4</th>\n      <td>0.000002</td>\n      <td>9.914315e-07</td>\n      <td>1.533202e-09</td>\n      <td>1.495048e-07</td>\n      <td>4.918553e-14</td>\n    </tr>\n    <tr>\n      <th>5</th>\n      <td>0.000002</td>\n      <td>9.123776e-07</td>\n      <td>7.881200e-10</td>\n      <td>1.253989e-07</td>\n      <td>8.625640e-15</td>\n    </tr>\n    <tr>\n      <th>6</th>\n      <td>0.000002</td>\n      <td>8.395863e-07</td>\n      <td>3.798873e-10</td>\n      <td>1.052652e-07</td>\n      <td>1.512674e-15</td>\n    </tr>\n    <tr>\n      <th>7</th>\n      <td>0.000002</td>\n      <td>7.727562e-07</td>\n      <td>2.026568e-10</td>\n      <td>8.842451e-08</td>\n      <td>2.652767e-16</td>\n    </tr>\n    <tr>\n      <th>8</th>\n      <td>0.000002</td>\n      <td>7.114576e-07</td>\n      <td>1.003999e-10</td>\n      <td>7.432059e-08</td>\n      <td>4.652143e-17</td>\n    </tr>\n    <tr>\n      <th>9</th>\n      <td>0.000002</td>\n      <td>6.551614e-07</td>\n      <td>5.336992e-11</td>\n      <td>6.249637e-08</td>\n      <td>8.158437e-18</td>\n    </tr>\n    <tr>\n      <th>10</th>\n      <td>0.000002</td>\n      <td>6.038174e-07</td>\n      <td>2.769087e-11</td>\n      <td>5.257463e-08</td>\n      <td>1.430741e-18</td>\n    </tr>\n    <tr>\n      <th>11</th>\n      <td>0.000002</td>\n      <td>5.565159e-07</td>\n      <td>1.400382e-11</td>\n      <td>4.424311e-08</td>\n      <td>2.509082e-19</td>\n    </tr>\n    <tr>\n      <th>12</th>\n      <td>0.000002</td>\n      <td>5.129486e-07</td>\n      <td>7.713941e-12</td>\n      <td>3.724256e-08</td>\n      <td>4.400163e-20</td>\n    </tr>\n    <tr>\n      <th>13</th>\n      <td>0.000002</td>\n      <td>4.731585e-07</td>\n      <td>3.950503e-12</td>\n      <td>3.135726e-08</td>\n      <td>7.716540e-21</td>\n    </tr>\n    <tr>\n      <th>14</th>\n      <td>0.000002</td>\n      <td>4.364525e-07</td>\n      <td>2.128848e-12</td>\n      <td>2.640736e-08</td>\n      <td>1.353245e-21</td>\n    </tr>\n    <tr>\n      <th>15</th>\n      <td>0.000002</td>\n      <td>4.024990e-07</td>\n      <td>1.125396e-12</td>\n      <td>2.224263e-08</td>\n      <td>2.373178e-22</td>\n    </tr>\n    <tr>\n      <th>16</th>\n      <td>0.000002</td>\n      <td>3.714567e-07</td>\n      <td>6.095358e-13</td>\n      <td>1.873743e-08</td>\n      <td>4.161828e-23</td>\n    </tr>\n    <tr>\n      <th>17</th>\n      <td>0.000002</td>\n      <td>3.428411e-07</td>\n      <td>3.212074e-13</td>\n      <td>1.578652e-08</td>\n      <td>7.298632e-24</td>\n    </tr>\n    <tr>\n      <th>18</th>\n      <td>0.000002</td>\n      <td>3.166041e-07</td>\n      <td>1.644261e-13</td>\n      <td>1.330171e-08</td>\n      <td>1.279954e-24</td>\n    </tr>\n    <tr>\n      <th>19</th>\n      <td>0.000002</td>\n      <td>2.923696e-07</td>\n      <td>9.156660e-14</td>\n      <td>1.120897e-08</td>\n      <td>2.244537e-25</td>\n    </tr>\n    <tr>\n      <th>20</th>\n      <td>0.000002</td>\n      <td>2.699808e-07</td>\n      <td>4.723281e-14</td>\n      <td>9.446163e-09</td>\n      <td>3.936460e-26</td>\n    </tr>\n    <tr>\n      <th>21</th>\n      <td>0.000002</td>\n      <td>2.495566e-07</td>\n      <td>2.634248e-14</td>\n      <td>7.961078e-09</td>\n      <td>6.903554e-27</td>\n    </tr>\n    <tr>\n      <th>22</th>\n      <td>0.000002</td>\n      <td>2.306847e-07</td>\n      <td>1.356463e-14</td>\n      <td>6.709817e-09</td>\n      <td>1.210446e-27</td>\n    </tr>\n    <tr>\n      <th>23</th>\n      <td>0.000002</td>\n      <td>2.132447e-07</td>\n      <td>7.381644e-15</td>\n      <td>5.655465e-09</td>\n      <td>2.122938e-28</td>\n    </tr>\n    <tr>\n      <th>24</th>\n      <td>0.000002</td>\n      <td>1.971747e-07</td>\n      <td>3.900702e-15</td>\n      <td>4.766965e-09</td>\n      <td>3.729328e-29</td>\n    </tr>\n    <tr>\n      <th>25</th>\n      <td>0.000002</td>\n      <td>1.823495e-07</td>\n      <td>2.000396e-15</td>\n      <td>4.018176e-09</td>\n      <td>6.535506e-30</td>\n    </tr>\n    <tr>\n      <th>26</th>\n      <td>0.000002</td>\n      <td>1.687404e-07</td>\n      <td>1.122249e-15</td>\n      <td>3.387094e-09</td>\n      <td>1.135546e-30</td>\n    </tr>\n    <tr>\n      <th>27</th>\n      <td>0.000002</td>\n      <td>1.561067e-07</td>\n      <td>5.749316e-16</td>\n      <td>2.855190e-09</td>\n      <td>2.032560e-31</td>\n    </tr>\n    <tr>\n      <th>28</th>\n      <td>0.000002</td>\n      <td>1.444629e-07</td>\n      <td>3.140081e-16</td>\n      <td>2.406861e-09</td>\n      <td>3.401599e-32</td>\n    </tr>\n    <tr>\n      <th>29</th>\n      <td>0.000002</td>\n      <td>1.338136e-07</td>\n      <td>1.650498e-16</td>\n      <td>2.028960e-09</td>\n      <td>5.905554e-33</td>\n    </tr>\n    <tr>\n      <th>30</th>\n      <td>0.000002</td>\n      <td>1.238858e-07</td>\n      <td>8.484397e-17</td>\n      <td>1.710417e-09</td>\n      <td>3.175876e-33</td>\n    </tr>\n    <tr>\n      <th>31</th>\n      <td>0.000002</td>\n      <td>1.147449e-07</td>\n      <td>4.785031e-17</td>\n      <td>1.441900e-09</td>\n      <td>3.175876e-33</td>\n    </tr>\n    <tr>\n      <th>32</th>\n      <td>0.000002</td>\n      <td>1.063394e-07</td>\n      <td>2.431550e-17</td>\n      <td>1.215549e-09</td>\n      <td>3.175876e-33</td>\n    </tr>\n    <tr>\n      <th>33</th>\n      <td>0.000002</td>\n      <td>9.847785e-08</td>\n      <td>1.368040e-17</td>\n      <td>1.024738e-09</td>\n      <td>3.175876e-33</td>\n    </tr>\n    <tr>\n      <th>34</th>\n      <td>0.000002</td>\n      <td>9.131292e-08</td>\n      <td>7.049802e-18</td>\n      <td>8.638860e-10</td>\n      <td>3.175876e-33</td>\n    </tr>\n    <tr>\n      <th>35</th>\n      <td>0.000002</td>\n      <td>8.467369e-08</td>\n      <td>3.822360e-18</td>\n      <td>7.282867e-10</td>\n      <td>3.175876e-33</td>\n    </tr>\n    <tr>\n      <th>36</th>\n      <td>0.000002</td>\n      <td>7.849137e-08</td>\n      <td>2.030091e-18</td>\n      <td>6.139746e-10</td>\n      <td>3.175876e-33</td>\n    </tr>\n    <tr>\n      <th>37</th>\n      <td>0.000002</td>\n      <td>7.281774e-08</td>\n      <td>1.033563e-18</td>\n      <td>5.176069e-10</td>\n      <td>3.175876e-33</td>\n    </tr>\n    <tr>\n      <th>38</th>\n      <td>0.000002</td>\n      <td>6.752710e-08</td>\n      <td>5.844709e-19</td>\n      <td>4.363664e-10</td>\n      <td>3.175876e-33</td>\n    </tr>\n    <tr>\n      <th>39</th>\n      <td>0.000002</td>\n      <td>6.267238e-08</td>\n      <td>2.972488e-19</td>\n      <td>3.678779e-10</td>\n      <td>3.175876e-33</td>\n    </tr>\n    <tr>\n      <th>40</th>\n      <td>0.000001</td>\n      <td>5.817660e-08</td>\n      <td>1.672879e-19</td>\n      <td>3.101395e-10</td>\n      <td>3.175876e-33</td>\n    </tr>\n    <tr>\n      <th>41</th>\n      <td>0.000001</td>\n      <td>5.398673e-08</td>\n      <td>8.558888e-20</td>\n      <td>2.614637e-10</td>\n      <td>3.175876e-33</td>\n    </tr>\n    <tr>\n      <th>42</th>\n      <td>0.000001</td>\n      <td>5.013949e-08</td>\n      <td>4.688454e-20</td>\n      <td>2.204279e-10</td>\n      <td>3.175876e-33</td>\n    </tr>\n    <tr>\n      <th>43</th>\n      <td>0.000001</td>\n      <td>4.654643e-08</td>\n      <td>2.485132e-20</td>\n      <td>1.858327e-10</td>\n      <td>3.175876e-33</td>\n    </tr>\n    <tr>\n      <th>44</th>\n      <td>0.000001</td>\n      <td>4.324685e-08</td>\n      <td>1.264468e-20</td>\n      <td>1.566673e-10</td>\n      <td>3.175876e-33</td>\n    </tr>\n    <tr>\n      <th>45</th>\n      <td>0.000001</td>\n      <td>4.018742e-08</td>\n      <td>7.148750e-21</td>\n      <td>1.320794e-10</td>\n      <td>3.175876e-33</td>\n    </tr>\n    <tr>\n      <th>46</th>\n      <td>0.000001</td>\n      <td>3.733181e-08</td>\n      <td>3.660340e-21</td>\n      <td>1.113504e-10</td>\n      <td>3.175876e-33</td>\n    </tr>\n    <tr>\n      <th>47</th>\n      <td>0.000001</td>\n      <td>3.470759e-08</td>\n      <td>2.040592e-21</td>\n      <td>9.387486e-11</td>\n      <td>3.175876e-33</td>\n    </tr>\n    <tr>\n      <th>48</th>\n      <td>0.000001</td>\n      <td>3.224282e-08</td>\n      <td>1.053545e-21</td>\n      <td>7.914197e-11</td>\n      <td>3.175876e-33</td>\n    </tr>\n    <tr>\n      <th>49</th>\n      <td>0.000001</td>\n      <td>2.999426e-08</td>\n      <td>5.880632e-22</td>\n      <td>6.672132e-11</td>\n      <td>3.175876e-33</td>\n    </tr>\n  </tbody>\n</table>\n</div>"
     },
     "execution_count": 918,
     "metadata": {},
     "output_type": "execute_result"
    }
   ],
   "source": [
    "rs_np = np.array(errors).T\n",
    "df = pd.DataFrame(rs_np, columns=['0.001','0.01','0.1','1','10'])\n",
    "df"
   ],
   "metadata": {
    "collapsed": false,
    "pycharm": {
     "name": "#%%\n"
    }
   }
  },
  {
   "cell_type": "code",
   "execution_count": 919,
   "outputs": [
    {
     "data": {
      "text/plain": "<AxesSubplot: title={'center': 'learning rate comparison'}>"
     },
     "execution_count": 919,
     "metadata": {},
     "output_type": "execute_result"
    },
    {
     "data": {
      "text/plain": "<Figure size 640x480 with 1 Axes>",
      "image/png": "[encoded data removed]"
     },
     "metadata": {},
     "output_type": "display_data"
    }
   ],
   "source": [
    "df.plot(title=\"learning rate comparison\")"
   ],
   "metadata": {
    "collapsed": false,
    "pycharm": {
     "name": "#%%\n"
    }
   }
  },
  {
   "cell_type": "markdown",
   "source": [
    "### Comment on findings of exercise 2\n",
    "The fastest learning rate is by far 10, which was a bit surprising to discover as I have learned that 0.1, 0.01 and 0.001 are the usual go to learning rates. However, it makes sense that the biggest learning rate is faster in the sense that it takes the largest amount of steps per iteration."
   ],
   "metadata": {
    "collapsed": false,
    "pycharm": {
     "name": "#%% md\n"
    }
   }
  },
  {
   "cell_type": "markdown",
   "source": [
    "# Problem 3\n",
    "Add another “hidden” layer(hidden layers exist between the input and output layers). Choose the size of the layer yourself. Retrain the network. Here, your knowledge about learning rate and epochs from the previous task might come in handy. Is this network more or less performant than the previous version? What does this change imply?"
   ],
   "metadata": {
    "collapsed": false,
    "pycharm": {
     "name": "#%% md\n"
    }
   }
  },
  {
   "cell_type": "code",
   "execution_count": 919,
   "outputs": [],
   "source": [],
   "metadata": {
    "collapsed": false,
    "pycharm": {
     "name": "#%%\n"
    }
   }
  }
 ],
 "metadata": {
  "kernelspec": {
   "display_name": "Python 3",
   "language": "python",
   "name": "python3"
  },
  "language_info": {
   "codemirror_mode": {
    "name": "ipython",
    "version": 3
   },
   "file_extension": ".py",
   "mimetype": "text/x-python",
   "name": "python",
   "nbconvert_exporter": "python",
   "pygments_lexer": "ipython3",
   "version": "3.8.8"
  }
 },
 "nbformat": 4,
 "nbformat_minor": 4
}